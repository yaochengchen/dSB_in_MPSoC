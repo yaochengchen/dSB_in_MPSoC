{
 "cells": [
  {
   "cell_type": "code",
   "execution_count": 1,
   "metadata": {},
   "outputs": [
    {
     "data": {
      "application/javascript": [
       "\n",
       "try {\n",
       "require(['notebook/js/codecell'], function(codecell) {\n",
       "  codecell.CodeCell.options_default.highlight_modes[\n",
       "      'magic_text/x-csrc'] = {'reg':[/^%%microblaze/]};\n",
       "  Jupyter.notebook.events.one('kernel_ready.Kernel', function(){\n",
       "      Jupyter.notebook.get_cells().map(function(cell){\n",
       "          if (cell.cell_type == 'code'){ cell.auto_highlight(); } }) ;\n",
       "  });\n",
       "});\n",
       "} catch (e) {};\n"
      ]
     },
     "metadata": {},
     "output_type": "display_data"
    },
    {
     "data": {
      "application/javascript": [
       "\n",
       "try {\n",
       "require(['notebook/js/codecell'], function(codecell) {\n",
       "  codecell.CodeCell.options_default.highlight_modes[\n",
       "      'magic_text/x-csrc'] = {'reg':[/^%%pybind11/]};\n",
       "  Jupyter.notebook.events.one('kernel_ready.Kernel', function(){\n",
       "      Jupyter.notebook.get_cells().map(function(cell){\n",
       "          if (cell.cell_type == 'code'){ cell.auto_highlight(); } }) ;\n",
       "  });\n",
       "});\n",
       "} catch (e) {};\n"
      ]
     },
     "metadata": {},
     "output_type": "display_data"
    }
   ],
   "source": [
    "from pynq import Overlay\n",
    "import numpy as np"
   ]
  },
  {
   "cell_type": "code",
   "execution_count": 2,
   "metadata": {},
   "outputs": [],
   "source": [
    "ol = Overlay(\"dSB_1J_2048_axi_new.bit\")"
   ]
  },
  {
   "cell_type": "code",
   "execution_count": 3,
   "metadata": {},
   "outputs": [
    {
     "data": {
      "text/plain": [
       "dict_keys(['dSB_0', 'zynq_ultra_ps_e_0'])"
      ]
     },
     "execution_count": 3,
     "metadata": {},
     "output_type": "execute_result"
    }
   ],
   "source": [
    "ol.ip_dict.keys()"
   ]
  },
  {
   "cell_type": "code",
   "execution_count": 4,
   "metadata": {},
   "outputs": [],
   "source": [
    "dSB = ol.dSB_0"
   ]
  },
  {
   "cell_type": "code",
   "execution_count": 5,
   "metadata": {},
   "outputs": [
    {
     "name": "stderr",
     "output_type": "stream",
     "text": [
      "/usr/local/lib/python3.6/dist-packages/pynq/registers.py:393: UserWarning: Unsupported register size 4096 for register Memory_ps_x\n",
      "  v[2], k\n",
      "/usr/local/lib/python3.6/dist-packages/pynq/registers.py:393: UserWarning: Unsupported register size 4096 for register Memory_ps_y\n",
      "  v[2], k\n"
     ]
    },
    {
     "data": {
      "text/plain": [
       "RegisterMap {\n",
       "  CTRL = Register(AP_START=0, AP_DONE=0, AP_IDLE=1, AP_READY=0, RESERVED_1=0, AUTO_RESTART=0, RESERVED_2=0, INTERRUPT=0, RESERVED_3=0),\n",
       "  GIER = Register(Enable=0, RESERVED=0),\n",
       "  IP_IER = Register(CHAN0_INT_EN=0, CHAN1_INT_EN=0, RESERVED_0=0),\n",
       "  IP_ISR = Register(CHAN0_INT_ST=0, CHAN1_INT_ST=0, RESERVED_0=0),\n",
       "  ps_J_1 = Register(ps_J=0),\n",
       "  ps_J_2 = Register(ps_J=0),\n",
       "  c_0 = Register(c_0=0, RESERVED=0),\n",
       "  dt = Register(dt=0, RESERVED=0)\n",
       "}"
      ]
     },
     "execution_count": 5,
     "metadata": {},
     "output_type": "execute_result"
    }
   ],
   "source": [
    "dSB.register_map"
   ]
  },
  {
   "cell_type": "code",
   "execution_count": 6,
   "metadata": {},
   "outputs": [],
   "source": [
    "N = 2048"
   ]
  },
  {
   "cell_type": "code",
   "execution_count": 7,
   "metadata": {},
   "outputs": [],
   "source": [
    "A = (-1)*np.ones((N, N)) + np.eye(N)"
   ]
  },
  {
   "cell_type": "code",
   "execution_count": 8,
   "metadata": {},
   "outputs": [
    {
     "data": {
      "text/plain": [
       "array([[ 0., -1., -1., ..., -1., -1., -1.],\n",
       "       [-1.,  0., -1., ..., -1., -1., -1.],\n",
       "       [-1., -1.,  0., ..., -1., -1., -1.],\n",
       "       ...,\n",
       "       [-1., -1., -1., ...,  0., -1., -1.],\n",
       "       [-1., -1., -1., ..., -1.,  0., -1.],\n",
       "       [-1., -1., -1., ..., -1., -1.,  0.]])"
      ]
     },
     "execution_count": 8,
     "metadata": {},
     "output_type": "execute_result"
    }
   ],
   "source": [
    "A"
   ]
  },
  {
   "cell_type": "code",
   "execution_count": 9,
   "metadata": {},
   "outputs": [],
   "source": [
    "J = A"
   ]
  },
  {
   "cell_type": "code",
   "execution_count": 10,
   "metadata": {},
   "outputs": [],
   "source": [
    "#sum_J_power = 0\n",
    "#for i in range(N):\n",
    "#    for j in range(N):\n",
    "#        sum_J_power += J[i][j] * J[i][j]"
   ]
  },
  {
   "cell_type": "code",
   "execution_count": 11,
   "metadata": {},
   "outputs": [],
   "source": [
    "#xi = 0.5 * np.sqrt(N - 1) / np.sqrt(sum_J_power)"
   ]
  },
  {
   "cell_type": "code",
   "execution_count": 12,
   "metadata": {},
   "outputs": [],
   "source": [
    "#xi"
   ]
  },
  {
   "cell_type": "code",
   "execution_count": 13,
   "metadata": {},
   "outputs": [],
   "source": [
    "def ap_fixed_to_int(binary_str):\n",
    "    \"\"\"\n",
    "    Convert a 16-bit two's complement fixed-point number to an integer.\n",
    "    \n",
    "    Args:\n",
    "    binary_str (str): A 16-bit binary string\n",
    "    \n",
    "    Returns:\n",
    "    float: The decimal integer value\n",
    "    \"\"\"\n",
    "    # Validate input\n",
    "    if len(binary_str) != 16:\n",
    "        raise ValueError(\"Input must be a 16-bit binary string\")\n",
    "    \n",
    "    # Check if it's a negative number (first bit is 1)\n",
    "    if binary_str[0] == '1':\n",
    "        # For negative numbers, invert the bits and add 1\n",
    "        inverted = ''.join('1' if bit == '0' else '0' for bit in binary_str)\n",
    "        return -(int(inverted, 2) + 1)\n",
    "    else:\n",
    "        # For positive numbers, simply convert to decimal\n",
    "        return int(binary_str, 2)\n",
    "\n",
    "def detailed_ap_fixed_conversion(binary_str):\n",
    "    \"\"\"\n",
    "    Provide detailed conversion of a 16-bit two's complement fixed-point number.\n",
    "    \n",
    "    Args:\n",
    "    binary_str (str): A 16-bit binary string\n",
    "    \n",
    "    Returns:\n",
    "    dict: Detailed conversion information\n",
    "    \"\"\"\n",
    "    # Validate input\n",
    "    if len(binary_str) != 16:\n",
    "        raise ValueError(\"Input must be a 16-bit binary string\")\n",
    "    \n",
    "    # Breakdown the bits\n",
    "    sign_bit = binary_str[0]\n",
    "    integer_bits = binary_str[1:4]  # 3 magnitude bits for integer part\n",
    "    fractional_bits = binary_str[4:]  # 12 fractional bits\n",
    "    \n",
    "    # Convert to integer value\n",
    "    if sign_bit == '1':\n",
    "        # Negative number: invert and add 1\n",
    "        inverted = ''.join('1' if bit == '0' else '0' for bit in binary_str)\n",
    "        int_value = -(int(inverted, 2) + 1)\n",
    "    else:\n",
    "        int_value = int(binary_str, 2)\n",
    "    \n",
    "    return {\n",
    "        'binary': binary_str,\n",
    "        'sign_bit': sign_bit,\n",
    "        'integer_bits': integer_bits,\n",
    "        'fractional_bits': fractional_bits,\n",
    "        'integer_value': int_value,\n",
    "        'decimal_representation': int_value / (2 ** 12)  # Divide by 2^12 due to 12 fractional bits\n",
    "    }\n"
   ]
  },
  {
   "cell_type": "code",
   "execution_count": 14,
   "metadata": {},
   "outputs": [],
   "source": [
    "def get_result_x(r_x):\n",
    "    count = 0\n",
    "    for j in range(N):\n",
    "        count = j;\n",
    "        c_a = count%2\n",
    "        if c_a == 1:\n",
    "            tmpt = dSB.read(0x1000+4*int(count/2))\n",
    "            cyc = bin(tmpt)[2:34]\n",
    "            #print(cyc)\n",
    "            cyc = cyc.zfill(32)\n",
    "            #print(cyc)\n",
    "            a = ap_fixed_to_int(cyc[0:16])\n",
    "            #print(len(cyc[18:34]))\n",
    "            #print(cyc)\n",
    "            #print(cyc[18:34])\n",
    "            b = ap_fixed_to_int(cyc[16:32])\n",
    "            #print(a>>12, b>>12)\n",
    "            #r_x[j-1] = np.sign(a)#>>12\n",
    "            #r_x[j] = np.sign(b)#>>12\n",
    "            r_x[j-1] = a/(2**14)\n",
    "            r_x[j] = b/(2**14)\n",
    "rx = np.zeros(N)"
   ]
  },
  {
   "cell_type": "code",
   "execution_count": 15,
   "metadata": {},
   "outputs": [],
   "source": [
    "x = 0.02 * (np.random.rand(N) - 0.5)\n",
    "y = 0.02 * (np.random.rand(N) - 0.5)\n",
    "for i in range(N):\n",
    "    x[i] *= (2**14)\n",
    "    y[i] *= (2**14)\n",
    "x=x.astype(np.int16)\n",
    "y=y.astype(np.int16)"
   ]
  },
  {
   "cell_type": "code",
   "execution_count": 16,
   "metadata": {},
   "outputs": [],
   "source": [
    "from pynq import allocate"
   ]
  },
  {
   "cell_type": "code",
   "execution_count": 17,
   "metadata": {},
   "outputs": [],
   "source": [
    "# 分配内存 - 例如为4096×4096位分配空间\n",
    "array_size = N * N  # 以uint32为单位的大小\n",
    "data_buffer = allocate(shape=(array_size,), dtype=np.uint8)\n",
    "data_buffer_out = allocate(shape=(array_size,), dtype=np.uint8)"
   ]
  },
  {
   "cell_type": "code",
   "execution_count": 18,
   "metadata": {},
   "outputs": [],
   "source": [
    "# 设置特定位的值的函数\n",
    "def set_bit(data, row, col, value):\n",
    "    bit_position = row * N + col\n",
    "    #byte_index = bit_position // 8\n",
    "    #bit_offset = bit_position % 8\n",
    "    \n",
    "    if value:\n",
    "        data[bit_position] = np.uint8(1)\n",
    "    #    data[byte_index] |= (1 << bit_offset)  # 设置位为1\n",
    "    else:\n",
    "        data[bit_position] = np.uint8(0)\n",
    "    #    data[byte_index] &= ~(1 << bit_offset)  # 设置位为0\n",
    "\n",
    "# 填充数据（示例）\n",
    "# 例如，创建一个棋盘图案\n",
    "for i in range(N):\n",
    "    for j in range(N):\n",
    "        # 创建棋盘格图案作为示例\n",
    "        value = 1 if i!=j else 0\n",
    "        set_bit(data_buffer, i, j, value)"
   ]
  },
  {
   "cell_type": "code",
   "execution_count": 19,
   "metadata": {},
   "outputs": [],
   "source": [
    "# 获取分配内存的设备地址\n",
    "device_address = data_buffer.device_address\n",
    "\n",
    "# 将64位地址拆分为两个32位部分\n",
    "address_lower = device_address & 0xFFFFFFFF         # 低32位\n",
    "address_upper = (device_address >> 32) & 0xFFFFFFFF # 高32位\n",
    "\n",
    "# 写入地址到寄存器\n",
    "dSB.write(0x010, address_lower)  # 低32位地址写入0x010寄存器\n",
    "dSB.write(0x014, address_upper)  # 高32位地址写入0x014寄存器"
   ]
  },
  {
   "cell_type": "code",
   "execution_count": 20,
   "metadata": {},
   "outputs": [],
   "source": [
    "# 获取分配内存的设备地址\n",
    "device_address_out = data_buffer_out.device_address\n",
    "\n",
    "# 将64位地址拆分为两个32位部分\n",
    "address_lower_out = device_address_out & 0xFFFFFFFF         # 低32位\n",
    "address_upper_out = (device_address_out >> 32) & 0xFFFFFFFF # 高32位\n",
    "\n",
    "# 写入地址到寄存器\n",
    "dSB.write(0x02c, address_lower_out)  # 低32位地址写入0x010寄存器\n",
    "dSB.write(0x030, address_upper_out)  # 高32位地址写入0x014寄存器"
   ]
  },
  {
   "cell_type": "code",
   "execution_count": 21,
   "metadata": {},
   "outputs": [
    {
     "name": "stdout",
     "output_type": "stream",
     "text": [
      "163.84\n",
      "181.01933598375615\n",
      "CPU times: user 168 ms, sys: 0 ns, total: 168 ms\n",
      "Wall time: 167 ms\n"
     ]
    }
   ],
   "source": [
    "%%time\n",
    "dt = 0.01*(2**14)\n",
    "print(dt)\n",
    "xi = 0.011048543456039804*(2**14)\n",
    "print(xi)\n",
    "tmpt = np.zeros((2),dtype=\"int16\")\n",
    "tmpt[0] = np.int16(xi)\n",
    "dSB.write(0x01c, bytes(tmpt))\n",
    "tmpt[0] = np.int16(dt)\n",
    "dSB.write(0x024, bytes(tmpt))\n",
    "\n",
    "\n",
    "\n",
    "count = 0\n",
    "for j in range(N):\n",
    "    count = j;\n",
    "    c_a = count%2\n",
    "    if c_a == 0:\n",
    "        tmpt = np.zeros((2),dtype=\"int16\")\n",
    "    tmpt[c_a] = x[j]\n",
    "    if c_a == 1:\n",
    "        val = bytes(tmpt)\n",
    "        dSB.write(0x1000+4*int(count/2), val)\n",
    "\n",
    "count = 0\n",
    "for j in range(N):\n",
    "    count = j;\n",
    "    c_a = count%2\n",
    "    if c_a == 0:\n",
    "        tmpt = np.zeros((2),dtype=\"int16\")\n",
    "    tmpt[c_a] = y[j]\n",
    "    if c_a == 1:\n",
    "        val = bytes(tmpt)\n",
    "        dSB.write(0x2000+4*int(count/2), val)\n"
   ]
  },
  {
   "cell_type": "code",
   "execution_count": 22,
   "metadata": {},
   "outputs": [
    {
     "name": "stdout",
     "output_type": "stream",
     "text": [
      "CPU times: user 549 ms, sys: 0 ns, total: 549 ms\n",
      "Wall time: 547 ms\n"
     ]
    }
   ],
   "source": [
    "%%time\n",
    "dSB.write(0,1)\n",
    "\n",
    "finished = dSB.read(0)\n",
    "while(finished!=14):\n",
    "    finished = dSB.read(0)\n"
   ]
  },
  {
   "cell_type": "code",
   "execution_count": 23,
   "metadata": {},
   "outputs": [
    {
     "data": {
      "text/plain": [
       "1024"
      ]
     },
     "execution_count": 23,
     "metadata": {},
     "output_type": "execute_result"
    }
   ],
   "source": [
    "get_result_x(rx)\n",
    "np.sum(rx>0)"
   ]
  },
  {
   "cell_type": "code",
   "execution_count": 24,
   "metadata": {},
   "outputs": [
    {
     "data": {
      "text/plain": [
       "array([ 0.13665771, -0.09307861,  0.1071167 , ..., -0.09918213,\n",
       "       -0.10595703,  0.11535645])"
      ]
     },
     "execution_count": 24,
     "metadata": {},
     "output_type": "execute_result"
    }
   ],
   "source": [
    "rx"
   ]
  },
  {
   "cell_type": "code",
   "execution_count": null,
   "metadata": {},
   "outputs": [],
   "source": []
  },
  {
   "cell_type": "code",
   "execution_count": null,
   "metadata": {},
   "outputs": [],
   "source": []
  },
  {
   "cell_type": "code",
   "execution_count": null,
   "metadata": {},
   "outputs": [],
   "source": []
  }
 ],
 "metadata": {
  "kernelspec": {
   "display_name": "Python 3",
   "language": "python",
   "name": "python3"
  },
  "language_info": {
   "codemirror_mode": {
    "name": "ipython",
    "version": 3
   },
   "file_extension": ".py",
   "mimetype": "text/x-python",
   "name": "python",
   "nbconvert_exporter": "python",
   "pygments_lexer": "ipython3",
   "version": "3.6.5"
  }
 },
 "nbformat": 4,
 "nbformat_minor": 2
}
