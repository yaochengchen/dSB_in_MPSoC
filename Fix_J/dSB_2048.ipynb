{
 "cells": [
  {
   "cell_type": "code",
   "execution_count": null,
   "metadata": {},
   "outputs": [],
   "source": [
    "from pynq import Overlay\n",
    "import numpy as np"
   ]
  },
  {
   "cell_type": "code",
   "execution_count": null,
   "metadata": {},
   "outputs": [],
   "source": [
    "ol = Overlay(\"dSB_2048_16.bit\")"
   ]
  },
  {
   "cell_type": "code",
   "execution_count": null,
   "metadata": {},
   "outputs": [],
   "source": [
    "ol.ip_dict.keys()"
   ]
  },
  {
   "cell_type": "code",
   "execution_count": null,
   "metadata": {},
   "outputs": [],
   "source": [
    "dSB = ol.dSB_0"
   ]
  },
  {
   "cell_type": "code",
   "execution_count": null,
   "metadata": {},
   "outputs": [],
   "source": [
    "dSB.register_map"
   ]
  },
  {
   "cell_type": "code",
   "execution_count": null,
   "metadata": {},
   "outputs": [],
   "source": [
    "N = 2048"
   ]
  },
  {
   "cell_type": "code",
   "execution_count": null,
   "metadata": {},
   "outputs": [],
   "source": [
    "A = (-1)*np.ones((N, N)) + np.eye(N)"
   ]
  },
  {
   "cell_type": "code",
   "execution_count": null,
   "metadata": {},
   "outputs": [],
   "source": [
    "A"
   ]
  },
  {
   "cell_type": "code",
   "execution_count": null,
   "metadata": {},
   "outputs": [],
   "source": [
    "J = A"
   ]
  },
  {
   "cell_type": "code",
   "execution_count": null,
   "metadata": {},
   "outputs": [],
   "source": [
    "#sum_J_power = 0\n",
    "#for i in range(N):\n",
    "#    for j in range(N):\n",
    "#        sum_J_power += J[i][j] * J[i][j]"
   ]
  },
  {
   "cell_type": "code",
   "execution_count": null,
   "metadata": {},
   "outputs": [],
   "source": [
    "#xi = 0.5 * np.sqrt(N - 1) / np.sqrt(sum_J_power)"
   ]
  },
  {
   "cell_type": "code",
   "execution_count": null,
   "metadata": {},
   "outputs": [],
   "source": [
    "#xi"
   ]
  },
  {
   "cell_type": "code",
   "execution_count": null,
   "metadata": {},
   "outputs": [],
   "source": []
  },
  {
   "cell_type": "code",
   "execution_count": null,
   "metadata": {},
   "outputs": [],
   "source": [
    "def ap_fixed_to_int(binary_str):\n",
    "    \"\"\"\n",
    "    Convert a 16-bit two's complement fixed-point number to an integer.\n",
    "    \n",
    "    Args:\n",
    "    binary_str (str): A 16-bit binary string\n",
    "    \n",
    "    Returns:\n",
    "    float: The decimal integer value\n",
    "    \"\"\"\n",
    "    # Validate input\n",
    "    if len(binary_str) != 16:\n",
    "        raise ValueError(\"Input must be a 16-bit binary string\")\n",
    "    \n",
    "    # Check if it's a negative number (first bit is 1)\n",
    "    if binary_str[0] == '1':\n",
    "        # For negative numbers, invert the bits and add 1\n",
    "        inverted = ''.join('1' if bit == '0' else '0' for bit in binary_str)\n",
    "        return -(int(inverted, 2) + 1)\n",
    "    else:\n",
    "        # For positive numbers, simply convert to decimal\n",
    "        return int(binary_str, 2)\n",
    "\n",
    "def detailed_ap_fixed_conversion(binary_str):\n",
    "    \"\"\"\n",
    "    Provide detailed conversion of a 16-bit two's complement fixed-point number.\n",
    "    \n",
    "    Args:\n",
    "    binary_str (str): A 16-bit binary string\n",
    "    \n",
    "    Returns:\n",
    "    dict: Detailed conversion information\n",
    "    \"\"\"\n",
    "    # Validate input\n",
    "    if len(binary_str) != 16:\n",
    "        raise ValueError(\"Input must be a 16-bit binary string\")\n",
    "    \n",
    "    # Breakdown the bits\n",
    "    sign_bit = binary_str[0]\n",
    "    integer_bits = binary_str[1:4]  # 3 magnitude bits for integer part\n",
    "    fractional_bits = binary_str[4:]  # 12 fractional bits\n",
    "    \n",
    "    # Convert to integer value\n",
    "    if sign_bit == '1':\n",
    "        # Negative number: invert and add 1\n",
    "        inverted = ''.join('1' if bit == '0' else '0' for bit in binary_str)\n",
    "        int_value = -(int(inverted, 2) + 1)\n",
    "    else:\n",
    "        int_value = int(binary_str, 2)\n",
    "    \n",
    "    return {\n",
    "        'binary': binary_str,\n",
    "        'sign_bit': sign_bit,\n",
    "        'integer_bits': integer_bits,\n",
    "        'fractional_bits': fractional_bits,\n",
    "        'integer_value': int_value,\n",
    "        'decimal_representation': int_value / (2 ** 12)  # Divide by 2^12 due to 12 fractional bits\n",
    "    }\n",
    "\n"
   ]
  },
  {
   "cell_type": "code",
   "execution_count": null,
   "metadata": {},
   "outputs": [],
   "source": [
    "def get_result_x(r_x):\n",
    "    count = 0\n",
    "    for j in range(N):\n",
    "        count = j;\n",
    "        c_a = count%2\n",
    "        if c_a == 1:\n",
    "            tmpt = dSB.read(0x1000+4*int(count/2))\n",
    "            cyc = bin(tmpt)[2:34]\n",
    "            #print(cyc)\n",
    "            cyc = cyc.zfill(32)\n",
    "            #print(cyc)\n",
    "            a = ap_fixed_to_int(cyc[0:16])\n",
    "            #print(len(cyc[18:34]))\n",
    "            #print(cyc)\n",
    "            #print(cyc[18:34])\n",
    "            b = ap_fixed_to_int(cyc[16:32])\n",
    "            #print(a>>12, b>>12)\n",
    "            #r_x[j-1] = np.sign(a)#>>12\n",
    "            #r_x[j] = np.sign(b)#>>12\n",
    "            r_x[j-1] = a/(2**14)\n",
    "            r_x[j] = b/(2**14)\n",
    "rx = np.zeros(N)"
   ]
  },
  {
   "cell_type": "code",
   "execution_count": null,
   "metadata": {},
   "outputs": [],
   "source": [
    "x = 0.02 * (np.random.rand(N) - 0.5)\n",
    "y = 0.02 * (np.random.rand(N) - 0.5)\n",
    "for i in range(N):\n",
    "    x[i] *= (2**14)\n",
    "    y[i] *= (2**14)\n",
    "x=x.astype(np.int16)\n",
    "y=y.astype(np.int16)"
   ]
  },
  {
   "cell_type": "code",
   "execution_count": null,
   "metadata": {},
   "outputs": [],
   "source": [
    "dt = 0.01*(2**14)\n",
    "print(dt)\n",
    "xi = 0.015625*(2**14)\n",
    "print(xi)\n",
    "tmpt = np.zeros((2),dtype=\"int16\")\n",
    "tmpt[0] = np.int16(dt)\n",
    "dSB.write(0x18, bytes(tmpt))\n",
    "tmpt[0] = np.int16(xi)\n",
    "dSB.write(0x10, bytes(tmpt))\n",
    "\n",
    "\n",
    "count = 0\n",
    "for j in range(N):\n",
    "    count = j;\n",
    "    c_a = count%2\n",
    "    if c_a == 0:\n",
    "        tmpt = np.zeros((2),dtype=\"int16\")\n",
    "    tmpt[c_a] = x[j]\n",
    "    if c_a == 1:\n",
    "        val = bytes(tmpt)\n",
    "        dSB.write(0x1000+4*int(count/2), val)\n",
    "\n",
    "count = 0\n",
    "for j in range(N):\n",
    "    count = j;\n",
    "    c_a = count%2\n",
    "    if c_a == 0:\n",
    "        tmpt = np.zeros((2),dtype=\"int16\")\n",
    "    tmpt[c_a] = y[j]\n",
    "    if c_a == 1:\n",
    "        val = bytes(tmpt)\n",
    "        dSB.write(0x2000+4*int(count/2), val)\n"
   ]
  },
  {
   "cell_type": "code",
   "execution_count": null,
   "metadata": {},
   "outputs": [],
   "source": [
    "%%time\n",
    "dSB.write(0,1)\n",
    "\n",
    "finished = dSB.read(0)\n",
    "while(finished!=14):\n",
    "    finished = dSB.read(0)"
   ]
  },
  {
   "cell_type": "code",
   "execution_count": null,
   "metadata": {},
   "outputs": [],
   "source": [
    "get_result_x(rx)\n",
    "np.sum(rx>0)"
   ]
  },
  {
   "cell_type": "code",
   "execution_count": null,
   "metadata": {},
   "outputs": [],
   "source": [
    "rx"
   ]
  },
  {
   "cell_type": "code",
   "execution_count": null,
   "metadata": {},
   "outputs": [],
   "source": []
  }
 ],
 "metadata": {
  "kernelspec": {
   "display_name": "Python 3",
   "language": "python",
   "name": "python3"
  },
  "language_info": {
   "codemirror_mode": {
    "name": "ipython",
    "version": 3
   },
   "file_extension": ".py",
   "mimetype": "text/x-python",
   "name": "python",
   "nbconvert_exporter": "python",
   "pygments_lexer": "ipython3",
   "version": "3.6.5"
  }
 },
 "nbformat": 4,
 "nbformat_minor": 2
}
