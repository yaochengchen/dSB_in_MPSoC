{
 "cells": [
  {
   "cell_type": "code",
   "execution_count": 1,
   "metadata": {},
   "outputs": [
    {
     "data": {
      "application/javascript": [
       "\n",
       "try {\n",
       "require(['notebook/js/codecell'], function(codecell) {\n",
       "  codecell.CodeCell.options_default.highlight_modes[\n",
       "      'magic_text/x-csrc'] = {'reg':[/^%%microblaze/]};\n",
       "  Jupyter.notebook.events.one('kernel_ready.Kernel', function(){\n",
       "      Jupyter.notebook.get_cells().map(function(cell){\n",
       "          if (cell.cell_type == 'code'){ cell.auto_highlight(); } }) ;\n",
       "  });\n",
       "});\n",
       "} catch (e) {};\n"
      ]
     },
     "metadata": {},
     "output_type": "display_data"
    },
    {
     "data": {
      "application/javascript": [
       "\n",
       "try {\n",
       "require(['notebook/js/codecell'], function(codecell) {\n",
       "  codecell.CodeCell.options_default.highlight_modes[\n",
       "      'magic_text/x-csrc'] = {'reg':[/^%%pybind11/]};\n",
       "  Jupyter.notebook.events.one('kernel_ready.Kernel', function(){\n",
       "      Jupyter.notebook.get_cells().map(function(cell){\n",
       "          if (cell.cell_type == 'code'){ cell.auto_highlight(); } }) ;\n",
       "  });\n",
       "});\n",
       "} catch (e) {};\n"
      ]
     },
     "metadata": {},
     "output_type": "display_data"
    }
   ],
   "source": [
    "from pynq import Overlay\n",
    "import numpy as np"
   ]
  },
  {
   "cell_type": "code",
   "execution_count": 2,
   "metadata": {},
   "outputs": [],
   "source": [
    "ol = Overlay(\"dSB_8J_512_axi_new.bit\")"
   ]
  },
  {
   "cell_type": "code",
   "execution_count": 3,
   "metadata": {},
   "outputs": [
    {
     "data": {
      "text/plain": [
       "dict_keys(['dSB_0', 'zynq_ultra_ps_e_0'])"
      ]
     },
     "execution_count": 3,
     "metadata": {},
     "output_type": "execute_result"
    }
   ],
   "source": [
    "ol.ip_dict.keys()"
   ]
  },
  {
   "cell_type": "code",
   "execution_count": 4,
   "metadata": {},
   "outputs": [],
   "source": [
    "dSB = ol.dSB_0"
   ]
  },
  {
   "cell_type": "code",
   "execution_count": 5,
   "metadata": {},
   "outputs": [
    {
     "name": "stderr",
     "output_type": "stream",
     "text": [
      "/usr/local/lib/python3.6/dist-packages/pynq/registers.py:393: UserWarning: Unsupported register size 1024 for register Memory_ps_x\n",
      "  v[2], k\n",
      "/usr/local/lib/python3.6/dist-packages/pynq/registers.py:393: UserWarning: Unsupported register size 1024 for register Memory_ps_y\n",
      "  v[2], k\n"
     ]
    },
    {
     "data": {
      "text/plain": [
       "RegisterMap {\n",
       "  CTRL = Register(AP_START=0, AP_DONE=0, AP_IDLE=1, AP_READY=0, RESERVED_1=0, AUTO_RESTART=0, RESERVED_2=0, INTERRUPT=0, RESERVED_3=0),\n",
       "  GIER = Register(Enable=0, RESERVED=0),\n",
       "  IP_IER = Register(CHAN0_INT_EN=0, CHAN1_INT_EN=0, RESERVED_0=0),\n",
       "  IP_ISR = Register(CHAN0_INT_ST=0, CHAN1_INT_ST=0, RESERVED_0=0),\n",
       "  ps_J_1 = Register(ps_J=0),\n",
       "  ps_J_2 = Register(ps_J=0),\n",
       "  ps_J_out_1 = Register(ps_J_out=0),\n",
       "  ps_J_out_2 = Register(ps_J_out=0),\n",
       "  c_0 = Register(c_0=0, RESERVED=0),\n",
       "  dt = Register(dt=0, RESERVED=0)\n",
       "}"
      ]
     },
     "execution_count": 5,
     "metadata": {},
     "output_type": "execute_result"
    }
   ],
   "source": [
    "dSB.register_map"
   ]
  },
  {
   "cell_type": "code",
   "execution_count": 6,
   "metadata": {},
   "outputs": [],
   "source": [
    "N = 512"
   ]
  },
  {
   "cell_type": "code",
   "execution_count": 7,
   "metadata": {},
   "outputs": [],
   "source": [
    "A = (-1)*np.ones((N, N)) + np.eye(N)"
   ]
  },
  {
   "cell_type": "code",
   "execution_count": 8,
   "metadata": {},
   "outputs": [
    {
     "data": {
      "text/plain": [
       "array([[ 0., -1., -1., ..., -1., -1., -1.],\n",
       "       [-1.,  0., -1., ..., -1., -1., -1.],\n",
       "       [-1., -1.,  0., ..., -1., -1., -1.],\n",
       "       ...,\n",
       "       [-1., -1., -1., ...,  0., -1., -1.],\n",
       "       [-1., -1., -1., ..., -1.,  0., -1.],\n",
       "       [-1., -1., -1., ..., -1., -1.,  0.]])"
      ]
     },
     "execution_count": 8,
     "metadata": {},
     "output_type": "execute_result"
    }
   ],
   "source": [
    "A"
   ]
  },
  {
   "cell_type": "code",
   "execution_count": 9,
   "metadata": {},
   "outputs": [],
   "source": [
    "J = A"
   ]
  },
  {
   "cell_type": "code",
   "execution_count": 10,
   "metadata": {},
   "outputs": [],
   "source": [
    "sum_J_power = 0\n",
    "for i in range(N):\n",
    "    for j in range(N):\n",
    "        sum_J_power += J[i][j] * J[i][j]"
   ]
  },
  {
   "cell_type": "code",
   "execution_count": 11,
   "metadata": {},
   "outputs": [],
   "source": [
    "xi = 0.5 * np.sqrt(N - 1) / np.sqrt(sum_J_power)"
   ]
  },
  {
   "cell_type": "code",
   "execution_count": 12,
   "metadata": {},
   "outputs": [
    {
     "data": {
      "text/plain": [
       "0.022097086912079608"
      ]
     },
     "execution_count": 12,
     "metadata": {},
     "output_type": "execute_result"
    }
   ],
   "source": [
    "xi"
   ]
  },
  {
   "cell_type": "code",
   "execution_count": 13,
   "metadata": {},
   "outputs": [],
   "source": [
    "def ap_fixed_to_int(binary_str):\n",
    "    \"\"\"\n",
    "    Convert a 16-bit two's complement fixed-point number to an integer.\n",
    "    \n",
    "    Args:\n",
    "    binary_str (str): A 16-bit binary string\n",
    "    \n",
    "    Returns:\n",
    "    float: The decimal integer value\n",
    "    \"\"\"\n",
    "    # Validate input\n",
    "    if len(binary_str) != 16:\n",
    "        raise ValueError(\"Input must be a 16-bit binary string\")\n",
    "    \n",
    "    # Check if it's a negative number (first bit is 1)\n",
    "    if binary_str[0] == '1':\n",
    "        # For negative numbers, invert the bits and add 1\n",
    "        inverted = ''.join('1' if bit == '0' else '0' for bit in binary_str)\n",
    "        return -(int(inverted, 2) + 1)\n",
    "    else:\n",
    "        # For positive numbers, simply convert to decimal\n",
    "        return int(binary_str, 2)\n",
    "\n",
    "def detailed_ap_fixed_conversion(binary_str):\n",
    "    \"\"\"\n",
    "    Provide detailed conversion of a 16-bit two's complement fixed-point number.\n",
    "    \n",
    "    Args:\n",
    "    binary_str (str): A 16-bit binary string\n",
    "    \n",
    "    Returns:\n",
    "    dict: Detailed conversion information\n",
    "    \"\"\"\n",
    "    # Validate input\n",
    "    if len(binary_str) != 16:\n",
    "        raise ValueError(\"Input must be a 16-bit binary string\")\n",
    "    \n",
    "    # Breakdown the bits\n",
    "    sign_bit = binary_str[0]\n",
    "    integer_bits = binary_str[1:4]  # 3 magnitude bits for integer part\n",
    "    fractional_bits = binary_str[4:]  # 12 fractional bits\n",
    "    \n",
    "    # Convert to integer value\n",
    "    if sign_bit == '1':\n",
    "        # Negative number: invert and add 1\n",
    "        inverted = ''.join('1' if bit == '0' else '0' for bit in binary_str)\n",
    "        int_value = -(int(inverted, 2) + 1)\n",
    "    else:\n",
    "        int_value = int(binary_str, 2)\n",
    "    \n",
    "    return {\n",
    "        'binary': binary_str,\n",
    "        'sign_bit': sign_bit,\n",
    "        'integer_bits': integer_bits,\n",
    "        'fractional_bits': fractional_bits,\n",
    "        'integer_value': int_value,\n",
    "        'decimal_representation': int_value / (2 ** 12)  # Divide by 2^12 due to 12 fractional bits\n",
    "    }\n",
    "\n"
   ]
  },
  {
   "cell_type": "code",
   "execution_count": 14,
   "metadata": {},
   "outputs": [],
   "source": [
    "def get_result_x(r_x):\n",
    "    count = 0\n",
    "    for j in range(N):\n",
    "        count = j;\n",
    "        c_a = count%2\n",
    "        if c_a == 1:\n",
    "            tmpt = dSB.read(0x400+4*int(count/2))\n",
    "            cyc = bin(tmpt)[2:34]\n",
    "            #print(cyc)\n",
    "            cyc = cyc.zfill(32)\n",
    "            #print(cyc)\n",
    "            a = ap_fixed_to_int(cyc[0:16])\n",
    "            #print(len(cyc[18:34]))\n",
    "            #print(cyc)\n",
    "            #print(cyc[18:34])\n",
    "            b = ap_fixed_to_int(cyc[16:32])\n",
    "            #print(a>>12, b>>12)\n",
    "            #r_x[j-1] = np.sign(a)#>>12\n",
    "            #r_x[j] = np.sign(b)#>>12\n",
    "            r_x[j-1] = a/(2**14)\n",
    "            r_x[j] = b/(2**14)\n",
    "rx = np.zeros(N)"
   ]
  },
  {
   "cell_type": "code",
   "execution_count": 15,
   "metadata": {},
   "outputs": [],
   "source": [
    "from pynq import allocate"
   ]
  },
  {
   "cell_type": "code",
   "execution_count": 16,
   "metadata": {},
   "outputs": [],
   "source": [
    "# 分配内存 - 例如为4096×4096位分配空间\n",
    "array_size = N * N  # 以uint32为单位的大小\n",
    "data_buffer = allocate(shape=(array_size,), dtype=np.uint8)\n",
    "data_buffer_out = allocate(shape=(array_size,), dtype=np.uint8)"
   ]
  },
  {
   "cell_type": "code",
   "execution_count": 17,
   "metadata": {},
   "outputs": [],
   "source": [
    "# 设置特定位的值的函数\n",
    "def set_bit(data, row, col, value):\n",
    "    bit_position = row * N + col\n",
    "    byte_index = bit_position // 8\n",
    "    bit_offset = bit_position % 8\n",
    "    \n",
    "    if value:\n",
    "        data[bit_position] = np.uint8(1)<<6\n",
    "        #data[byte_index] |= (1 << bit_offset)  # 设置位为1\n",
    "    else:\n",
    "        data[bit_position] = np.uint8(0)<<6\n",
    "        #data[byte_index] &= ~(1 << bit_offset)  # 设置位为0\n",
    "\n",
    "# 填充数据（示例）\n",
    "# 例如，创建一个棋盘图案\n",
    "for i in range(N):\n",
    "    for j in range(N):\n",
    "        # 创建棋盘格图案作为示例\n",
    "        value = 1 if i!=j else 0\n",
    "        set_bit(data_buffer, i, j, value)"
   ]
  },
  {
   "cell_type": "code",
   "execution_count": 18,
   "metadata": {},
   "outputs": [],
   "source": [
    "# 获取分配内存的设备地址\n",
    "device_address = data_buffer.device_address\n",
    "\n",
    "# 将64位地址拆分为两个32位部分\n",
    "address_lower = device_address & 0xFFFFFFFF         # 低32位\n",
    "address_upper = (device_address >> 32) & 0xFFFFFFFF # 高32位\n",
    "\n",
    "# 写入地址到寄存器\n",
    "dSB.write(0x010, address_lower)  # 低32位地址写入0x010寄存器\n",
    "dSB.write(0x014, address_upper)  # 高32位地址写入0x014寄存器"
   ]
  },
  {
   "cell_type": "code",
   "execution_count": 19,
   "metadata": {},
   "outputs": [],
   "source": [
    "# 获取分配内存的设备地址\n",
    "device_address_out = data_buffer_out.device_address\n",
    "\n",
    "# 将64位地址拆分为两个32位部分\n",
    "address_lower_out = device_address_out & 0xFFFFFFFF         # 低32位\n",
    "address_upper_out = (device_address_out >> 32) & 0xFFFFFFFF # 高32位\n",
    "\n",
    "# 写入地址到寄存器\n",
    "dSB.write(0x01c, address_lower_out)  # 低32位地址写入0x010寄存器\n",
    "dSB.write(0x020, address_upper_out)  # 高32位地址写入0x014寄存器"
   ]
  },
  {
   "cell_type": "code",
   "execution_count": 20,
   "metadata": {},
   "outputs": [],
   "source": [
    "x = 0.02 * (np.random.rand(N) - 0.5)\n",
    "y = 0.02 * (np.random.rand(N) - 0.5)\n",
    "for i in range(N):\n",
    "    x[i] *= (2**14)\n",
    "    y[i] *= (2**14)\n",
    "x=x.astype(np.int16)\n",
    "y=y.astype(np.int16)"
   ]
  },
  {
   "cell_type": "code",
   "execution_count": 21,
   "metadata": {},
   "outputs": [
    {
     "name": "stdout",
     "output_type": "stream",
     "text": [
      "49.152\n",
      "362.0386719675123\n",
      "CPU times: user 44.3 ms, sys: 2 µs, total: 44.3 ms\n",
      "Wall time: 44.3 ms\n"
     ]
    }
   ],
   "source": [
    "%%time\n",
    "dt = 0.003*(2**14)\n",
    "print(dt)\n",
    "xi = 0.022097086912079608*(2**14)\n",
    "print(xi)\n",
    "tmpt = np.zeros((2),dtype=\"int16\")\n",
    "tmpt[0] = np.int16(xi)\n",
    "dSB.write(0x028, bytes(tmpt))\n",
    "tmpt[0] = np.int16(dt)\n",
    "dSB.write(0x030, bytes(tmpt))\n",
    "\n",
    "\n",
    "\n",
    "count = 0\n",
    "for j in range(N):\n",
    "    count = j;\n",
    "    c_a = count%2\n",
    "    if c_a == 0:\n",
    "        tmpt = np.zeros((2),dtype=\"int16\")\n",
    "    tmpt[c_a] = x[j]\n",
    "    if c_a == 1:\n",
    "        val = bytes(tmpt)\n",
    "        dSB.write(0x400+4*int(count/2), val)\n",
    "\n",
    "count = 0\n",
    "for j in range(N):\n",
    "    count = j;\n",
    "    c_a = count%2\n",
    "    if c_a == 0:\n",
    "        tmpt = np.zeros((2),dtype=\"int16\")\n",
    "    tmpt[c_a] = y[j]\n",
    "    if c_a == 1:\n",
    "        val = bytes(tmpt)\n",
    "        dSB.write(0x800+4*int(count/2), val)\n",
    "\n"
   ]
  },
  {
   "cell_type": "code",
   "execution_count": 22,
   "metadata": {},
   "outputs": [
    {
     "name": "stdout",
     "output_type": "stream",
     "text": [
      "CPU times: user 134 ms, sys: 3.96 ms, total: 138 ms\n",
      "Wall time: 137 ms\n"
     ]
    }
   ],
   "source": [
    "%%time\n",
    "dSB.write(0,1)\n",
    "\n",
    "finished = dSB.read(0)\n",
    "while(finished!=14):\n",
    "    finished = dSB.read(0)"
   ]
  },
  {
   "cell_type": "code",
   "execution_count": 23,
   "metadata": {},
   "outputs": [
    {
     "data": {
      "text/plain": [
       "256"
      ]
     },
     "execution_count": 23,
     "metadata": {},
     "output_type": "execute_result"
    }
   ],
   "source": [
    "get_result_x(rx)\n",
    "np.sum(rx<0)"
   ]
  },
  {
   "cell_type": "code",
   "execution_count": 24,
   "metadata": {},
   "outputs": [
    {
     "data": {
      "text/plain": [
       "array([ 0.05688477, -0.13214111,  0.06365967,  0.05645752,  0.08770752,\n",
       "        0.09881592, -0.10131836, -0.11535645, -0.12298584, -0.14813232,\n",
       "        0.05895996, -0.14251709,  0.05664062, -0.12243652,  0.05279541,\n",
       "        0.05987549,  0.05609131,  0.06048584, -0.10980225,  0.05706787,\n",
       "       -0.1270752 ,  0.09564209, -0.10101318, -0.109375  , -0.11828613,\n",
       "        0.08355713, -0.10150146, -0.12237549,  0.04449463,  0.04986572,\n",
       "        0.05877686,  0.05993652,  0.06048584,  0.06549072, -0.07525635,\n",
       "        0.05200195,  0.05712891, -0.10174561,  0.05334473,  0.08288574,\n",
       "        0.05169678, -0.14227295, -0.09771729,  0.06561279, -0.11895752,\n",
       "       -0.14422607,  0.08178711, -0.1217041 ,  0.0524292 , -0.10217285,\n",
       "       -0.10131836, -0.11724854, -0.1182251 , -0.12957764, -0.11151123,\n",
       "        0.06182861,  0.05993652, -0.12719727, -0.12097168,  0.05889893,\n",
       "        0.05316162, -0.13793945, -0.11480713, -0.10351562, -0.12695312,\n",
       "        0.06542969, -0.13830566, -0.11413574,  0.05908203,  0.05511475,\n",
       "        0.08050537, -0.09936523,  0.08428955,  0.05731201,  0.05981445,\n",
       "        0.05499268, -0.10253906,  0.06121826, -0.11541748,  0.0604248 ,\n",
       "       -0.10064697,  0.05047607, -0.10198975,  0.06231689, -0.11712646,\n",
       "       -0.12286377,  0.06201172,  0.08081055, -0.10162354,  0.06048584,\n",
       "       -0.11499023,  0.05987549, -0.11877441,  0.0546875 , -0.09893799,\n",
       "       -0.12432861, -0.12139893, -0.10272217, -0.12921143, -0.11962891,\n",
       "        0.08868408,  0.05932617,  0.06103516,  0.05291748, -0.17425537,\n",
       "       -0.14355469,  0.05297852, -0.10162354, -0.12207031, -0.11248779,\n",
       "       -0.11199951,  0.05664062,  0.06292725, -0.11541748,  0.07696533,\n",
       "       -0.09954834,  0.05487061, -0.14282227, -0.09851074,  0.05163574,\n",
       "        0.06030273, -0.12359619,  0.06079102,  0.05621338,  0.05957031,\n",
       "       -0.12457275, -0.11035156, -0.13061523,  0.06555176, -0.12310791,\n",
       "       -0.1194458 , -0.12738037,  0.06494141, -0.11578369,  0.05761719,\n",
       "       -0.12512207, -0.11193848, -0.12219238, -0.10357666, -0.1237793 ,\n",
       "       -0.12463379, -0.14227295, -0.11804199,  0.07995605, -0.11865234,\n",
       "       -0.12811279, -0.11871338,  0.05755615,  0.08459473,  0.06158447,\n",
       "       -0.12164307,  0.05627441, -0.12884521, -0.12451172,  0.05487061,\n",
       "       -0.12817383,  0.08410645,  0.05688477, -0.14056396,  0.05438232,\n",
       "        0.06329346,  0.07958984, -0.12115479, -0.14685059, -0.11120605,\n",
       "        0.04528809, -0.13067627, -0.14227295,  0.05712891,  0.06134033,\n",
       "        0.04437256, -0.11523438,  0.05737305,  0.05822754, -0.12103271,\n",
       "       -0.12481689,  0.05310059,  0.05957031, -0.13684082,  0.05718994,\n",
       "        0.0581665 ,  0.05151367, -0.11773682, -0.13037109,  0.06262207,\n",
       "        0.08709717, -0.14416504, -0.11340332, -0.10192871,  0.05877686,\n",
       "       -0.12091064, -0.11419678,  0.06256104,  0.09338379, -0.17028809,\n",
       "        0.05804443, -0.13391113,  0.06323242,  0.05853271,  0.0567627 ,\n",
       "        0.08807373, -0.09936523,  0.08276367,  0.08087158, -0.1708374 ,\n",
       "        0.05737305,  0.06060791,  0.05633545, -0.12365723, -0.12762451,\n",
       "       -0.10394287, -0.10125732, -0.13323975, -0.1105957 ,  0.05493164,\n",
       "       -0.11682129,  0.0635376 , -0.11773682, -0.1204834 , -0.12005615,\n",
       "       -0.11999512, -0.13269043,  0.0513916 , -0.11743164, -0.12182617,\n",
       "       -0.12078857,  0.08520508,  0.06066895,  0.05981445, -0.13031006,\n",
       "        0.06054688,  0.05517578, -0.10913086,  0.05560303,  0.05944824,\n",
       "        0.01782227,  0.05352783,  0.0581665 ,  0.05651855, -0.13146973,\n",
       "       -0.12408447,  0.04418945, -0.12237549, -0.11755371,  0.05670166,\n",
       "        0.07965088,  0.0881958 ,  0.06469727, -0.09954834, -0.12255859,\n",
       "        0.05987549, -0.10998535, -0.11431885, -0.12176514,  0.05377197,\n",
       "       -0.11376953,  0.08172607,  0.04638672, -0.10064697,  0.05950928,\n",
       "        0.04620361, -0.1015625 ,  0.06152344,  0.06201172,  0.08251953,\n",
       "       -0.12414551,  0.05700684,  0.0814209 , -0.13153076, -0.1182251 ,\n",
       "        0.06109619,  0.06549072,  0.05932617,  0.06549072, -0.12811279,\n",
       "        0.05938721,  0.05688477,  0.08258057, -0.11645508,  0.08959961,\n",
       "        0.05853271, -0.11975098,  0.05688477,  0.06390381,  0.05450439,\n",
       "       -0.11993408,  0.097229  , -0.11676025, -0.13250732, -0.13208008,\n",
       "       -0.11029053, -0.13549805,  0.08221436,  0.06170654,  0.05853271,\n",
       "        0.0501709 ,  0.05841064, -0.12390137, -0.11462402, -0.11724854,\n",
       "        0.05218506, -0.11712646, -0.11383057, -0.11297607,  0.09887695,\n",
       "       -0.11621094,  0.05761719, -0.11743164, -0.11486816, -0.12207031,\n",
       "       -0.13140869, -0.12286377,  0.06207275, -0.1194458 ,  0.05645752,\n",
       "       -0.10144043, -0.12561035,  0.0871582 , -0.12902832, -0.12792969,\n",
       "        0.0614624 ,  0.05529785, -0.13122559, -0.11865234, -0.12316895,\n",
       "       -0.11437988, -0.11932373,  0.08001709, -0.09954834, -0.12426758,\n",
       "        0.05053711, -0.10858154,  0.05712891,  0.08270264,  0.05291748,\n",
       "        0.0581665 , -0.14489746, -0.12182617,  0.06604004,  0.05627441,\n",
       "        0.05651855,  0.08172607,  0.05914307,  0.08209229,  0.05932617,\n",
       "       -0.12976074, -0.10339355,  0.05841064,  0.05651855, -0.12927246,\n",
       "        0.05297852, -0.11730957,  0.06213379,  0.06115723, -0.16943359,\n",
       "        0.05883789, -0.13244629,  0.05664062,  0.06396484,  0.06420898,\n",
       "       -0.14605713, -0.11578369, -0.1473999 ,  0.0824585 ,  0.05822754,\n",
       "        0.06335449,  0.05212402,  0.05749512, -0.11834717,  0.05969238,\n",
       "       -0.11602783,  0.06274414,  0.07995605,  0.05224609, -0.12255859,\n",
       "        0.08178711,  0.0567627 ,  0.08068848,  0.0612793 , -0.14190674,\n",
       "       -0.11724854,  0.05749512,  0.0838623 ,  0.0802002 , -0.1116333 ,\n",
       "       -0.11920166, -0.12298584, -0.1105957 ,  0.07855225, -0.12078857,\n",
       "        0.04638672, -0.11779785, -0.10351562,  0.09326172,  0.0614624 ,\n",
       "        0.05303955, -0.11987305,  0.08062744, -0.17504883,  0.0513916 ,\n",
       "        0.02722168,  0.05944824,  0.0803833 ,  0.06488037,  0.05841064,\n",
       "       -0.09417725,  0.05633545, -0.11560059, -0.14257812, -0.1161499 ,\n",
       "       -0.10241699,  0.05688477, -0.11968994, -0.12908936,  0.05932617,\n",
       "       -0.13696289,  0.05847168, -0.11669922,  0.05157471, -0.12036133,\n",
       "       -0.12078857,  0.06500244, -0.11468506, -0.13067627,  0.05981445,\n",
       "       -0.11016846,  0.06506348, -0.11737061,  0.05529785,  0.08374023,\n",
       "       -0.10174561, -0.17163086, -0.09857178,  0.07843018, -0.11425781,\n",
       "       -0.13183594,  0.04345703, -0.1340332 ,  0.06115723,  0.06054688,\n",
       "       -0.11773682,  0.08111572, -0.10333252, -0.11694336,  0.08148193,\n",
       "        0.05511475, -0.1293335 ,  0.0657959 , -0.13128662,  0.05383301,\n",
       "        0.05834961,  0.08312988, -0.12408447, -0.10290527, -0.09979248,\n",
       "       -0.14575195,  0.0581665 ,  0.04400635, -0.14044189, -0.11340332,\n",
       "        0.05822754,  0.05395508, -0.1317749 , -0.11724854, -0.11157227,\n",
       "       -0.11071777, -0.12786865, -0.13934326, -0.12353516,  0.06176758,\n",
       "        0.05926514,  0.06420898,  0.07745361, -0.13244629, -0.12841797,\n",
       "       -0.11608887, -0.12133789,  0.07843018, -0.13208008, -0.11456299,\n",
       "       -0.12316895,  0.05310059, -0.12786865,  0.05688477, -0.12103271,\n",
       "        0.06109619, -0.11523438,  0.05877686, -0.1293335 ,  0.05938721,\n",
       "        0.05480957,  0.05932617,  0.05895996,  0.06182861,  0.0927124 ,\n",
       "        0.08343506,  0.06585693, -0.11779785, -0.11383057,  0.05700684,\n",
       "       -0.13128662, -0.11633301,  0.07623291, -0.13214111, -0.10028076,\n",
       "        0.08251953, -0.12799072, -0.09912109,  0.05822754,  0.05291748,\n",
       "       -0.14031982, -0.12469482])"
      ]
     },
     "execution_count": 24,
     "metadata": {},
     "output_type": "execute_result"
    }
   ],
   "source": [
    "rx"
   ]
  },
  {
   "cell_type": "code",
   "execution_count": null,
   "metadata": {},
   "outputs": [],
   "source": []
  },
  {
   "cell_type": "code",
   "execution_count": 25,
   "metadata": {},
   "outputs": [],
   "source": [
    "import numpy as np\n",
    "\n",
    "def get_bit_matrix(data, N):\n",
    "    \"\"\"\n",
    "    从数据缓冲区读取位信息，并构建N×N的矩阵\n",
    "    \n",
    "    参数:\n",
    "        data: 包含位数据的缓冲区\n",
    "        N: 矩阵的维度\n",
    "    \n",
    "    返回:\n",
    "        N×N的numpy矩阵，包含位值（0或1）\n",
    "    \"\"\"\n",
    "    # 创建一个N×N的零矩阵\n",
    "    matrix = np.zeros((N, N), dtype=np.uint8)\n",
    "    \n",
    "    # 遍历矩阵的每个位置\n",
    "    for i in range(N):\n",
    "        for j in range(N):\n",
    "            bit_position = i * N + j\n",
    "            # 根据你的设置函数逻辑，检查位值\n",
    "            if data[bit_position] == np.uint8(1)<<6:\n",
    "                matrix[i, j] = 1\n",
    "            else:\n",
    "                matrix[i, j] = 0\n",
    "    \n",
    "    return matrix\n",
    "\n",
    "# 使用示例\n",
    "# 假设 data_buffer 和 N 已经定义\n",
    "# matrix = get_bit_matrix(data_buffer, N)\n",
    "# print(matrix)"
   ]
  },
  {
   "cell_type": "code",
   "execution_count": 26,
   "metadata": {},
   "outputs": [
    {
     "data": {
      "text/plain": [
       "array([[0, 1, 1, ..., 1, 1, 1],\n",
       "       [1, 0, 1, ..., 1, 1, 1],\n",
       "       [1, 1, 0, ..., 1, 1, 1],\n",
       "       ...,\n",
       "       [1, 1, 1, ..., 0, 1, 1],\n",
       "       [1, 1, 1, ..., 1, 0, 1],\n",
       "       [1, 1, 1, ..., 1, 1, 0]], dtype=uint8)"
      ]
     },
     "execution_count": 26,
     "metadata": {},
     "output_type": "execute_result"
    }
   ],
   "source": [
    "get_bit_matrix(data_buffer, N)"
   ]
  },
  {
   "cell_type": "code",
   "execution_count": null,
   "metadata": {},
   "outputs": [],
   "source": []
  },
  {
   "cell_type": "code",
   "execution_count": null,
   "metadata": {},
   "outputs": [],
   "source": []
  }
 ],
 "metadata": {
  "kernelspec": {
   "display_name": "Python 3",
   "language": "python",
   "name": "python3"
  },
  "language_info": {
   "codemirror_mode": {
    "name": "ipython",
    "version": 3
   },
   "file_extension": ".py",
   "mimetype": "text/x-python",
   "name": "python",
   "nbconvert_exporter": "python",
   "pygments_lexer": "ipython3",
   "version": "3.6.5"
  }
 },
 "nbformat": 4,
 "nbformat_minor": 2
}
