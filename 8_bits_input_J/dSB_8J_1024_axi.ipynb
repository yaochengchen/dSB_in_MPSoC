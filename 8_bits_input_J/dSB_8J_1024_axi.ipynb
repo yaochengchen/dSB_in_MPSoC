{
 "cells": [
  {
   "cell_type": "code",
   "execution_count": null,
   "metadata": {},
   "outputs": [],
   "source": [
    "from pynq import Overlay\n",
    "import numpy as np"
   ]
  },
  {
   "cell_type": "code",
   "execution_count": null,
   "metadata": {},
   "outputs": [],
   "source": [
    "ol = Overlay(\"dSB_8J_1024_axi.bit\")"
   ]
  },
  {
   "cell_type": "code",
   "execution_count": null,
   "metadata": {},
   "outputs": [],
   "source": [
    "ol.ip_dict.keys()"
   ]
  },
  {
   "cell_type": "code",
   "execution_count": null,
   "metadata": {},
   "outputs": [],
   "source": [
    "dSB = ol.dSB_0"
   ]
  },
  {
   "cell_type": "code",
   "execution_count": null,
   "metadata": {},
   "outputs": [],
   "source": [
    "dSB.register_map"
   ]
  },
  {
   "cell_type": "code",
   "execution_count": null,
   "metadata": {},
   "outputs": [],
   "source": [
    "N = 1024"
   ]
  },
  {
   "cell_type": "code",
   "execution_count": 7,
   "metadata": {},
   "outputs": [],
   "source": [
    "A = (-1)*np.ones((N, N)) + np.eye(N)"
   ]
  },
  {
   "cell_type": "code",
   "execution_count": 8,
   "metadata": {},
   "outputs": [
    {
     "data": {
      "text/plain": [
       "array([[ 0., -1., -1., ..., -1., -1., -1.],\n",
       "       [-1.,  0., -1., ..., -1., -1., -1.],\n",
       "       [-1., -1.,  0., ..., -1., -1., -1.],\n",
       "       ...,\n",
       "       [-1., -1., -1., ...,  0., -1., -1.],\n",
       "       [-1., -1., -1., ..., -1.,  0., -1.],\n",
       "       [-1., -1., -1., ..., -1., -1.,  0.]])"
      ]
     },
     "execution_count": 8,
     "metadata": {},
     "output_type": "execute_result"
    }
   ],
   "source": [
    "A"
   ]
  },
  {
   "cell_type": "code",
   "execution_count": 9,
   "metadata": {},
   "outputs": [],
   "source": [
    "J = A"
   ]
  },
  {
   "cell_type": "code",
   "execution_count": 10,
   "metadata": {},
   "outputs": [],
   "source": [
    "#sum_J_power = 0\n",
    "#for i in range(N):\n",
    "#    for j in range(N):\n",
    "#        sum_J_power += J[i][j] * J[i][j]"
   ]
  },
  {
   "cell_type": "code",
   "execution_count": 11,
   "metadata": {},
   "outputs": [],
   "source": [
    "#xi = 0.5 * np.sqrt(N - 1) / np.sqrt(sum_J_power)"
   ]
  },
  {
   "cell_type": "code",
   "execution_count": 12,
   "metadata": {},
   "outputs": [],
   "source": [
    "#xi"
   ]
  },
  {
   "cell_type": "code",
   "execution_count": 13,
   "metadata": {},
   "outputs": [],
   "source": [
    "def ap_fixed_to_int(binary_str):\n",
    "    \"\"\"\n",
    "    Convert a 16-bit two's complement fixed-point number to an integer.\n",
    "    \n",
    "    Args:\n",
    "    binary_str (str): A 16-bit binary string\n",
    "    \n",
    "    Returns:\n",
    "    float: The decimal integer value\n",
    "    \"\"\"\n",
    "    # Validate input\n",
    "    if len(binary_str) != 16:\n",
    "        raise ValueError(\"Input must be a 16-bit binary string\")\n",
    "    \n",
    "    # Check if it's a negative number (first bit is 1)\n",
    "    if binary_str[0] == '1':\n",
    "        # For negative numbers, invert the bits and add 1\n",
    "        inverted = ''.join('1' if bit == '0' else '0' for bit in binary_str)\n",
    "        return -(int(inverted, 2) + 1)\n",
    "    else:\n",
    "        # For positive numbers, simply convert to decimal\n",
    "        return int(binary_str, 2)\n",
    "\n",
    "def detailed_ap_fixed_conversion(binary_str):\n",
    "    \"\"\"\n",
    "    Provide detailed conversion of a 16-bit two's complement fixed-point number.\n",
    "    \n",
    "    Args:\n",
    "    binary_str (str): A 16-bit binary string\n",
    "    \n",
    "    Returns:\n",
    "    dict: Detailed conversion information\n",
    "    \"\"\"\n",
    "    # Validate input\n",
    "    if len(binary_str) != 16:\n",
    "        raise ValueError(\"Input must be a 16-bit binary string\")\n",
    "    \n",
    "    # Breakdown the bits\n",
    "    sign_bit = binary_str[0]\n",
    "    integer_bits = binary_str[1:4]  # 3 magnitude bits for integer part\n",
    "    fractional_bits = binary_str[4:]  # 12 fractional bits\n",
    "    \n",
    "    # Convert to integer value\n",
    "    if sign_bit == '1':\n",
    "        # Negative number: invert and add 1\n",
    "        inverted = ''.join('1' if bit == '0' else '0' for bit in binary_str)\n",
    "        int_value = -(int(inverted, 2) + 1)\n",
    "    else:\n",
    "        int_value = int(binary_str, 2)\n",
    "    \n",
    "    return {\n",
    "        'binary': binary_str,\n",
    "        'sign_bit': sign_bit,\n",
    "        'integer_bits': integer_bits,\n",
    "        'fractional_bits': fractional_bits,\n",
    "        'integer_value': int_value,\n",
    "        'decimal_representation': int_value / (2 ** 12)  # Divide by 2^12 due to 12 fractional bits\n",
    "    }\n",
    "\n"
   ]
  },
  {
   "cell_type": "code",
   "execution_count": 14,
   "metadata": {},
   "outputs": [],
   "source": [
    "def get_result_x(r_x):\n",
    "    count = 0\n",
    "    for j in range(N):\n",
    "        count = j;\n",
    "        c_a = count%2\n",
    "        if c_a == 1:\n",
    "            tmpt = dSB.read(0x800+4*int(count/2))\n",
    "            cyc = bin(tmpt)[2:34]\n",
    "            #print(cyc)\n",
    "            cyc = cyc.zfill(32)\n",
    "            #print(cyc)\n",
    "            a = ap_fixed_to_int(cyc[0:16])\n",
    "            #print(len(cyc[18:34]))\n",
    "            #print(cyc)\n",
    "            #print(cyc[18:34])\n",
    "            b = ap_fixed_to_int(cyc[16:32])\n",
    "            #print(a>>12, b>>12)\n",
    "            #r_x[j-1] = np.sign(a)#>>12\n",
    "            #r_x[j] = np.sign(b)#>>12\n",
    "            r_x[j-1] = a/(2**14)\n",
    "            r_x[j] = b/(2**14)\n",
    "rx = np.zeros(N)"
   ]
  },
  {
   "cell_type": "code",
   "execution_count": 15,
   "metadata": {},
   "outputs": [],
   "source": [
    "from pynq import allocate"
   ]
  },
  {
   "cell_type": "code",
   "execution_count": 16,
   "metadata": {},
   "outputs": [],
   "source": [
    "# 分配内存 - 例如为4096×4096位分配空间\n",
    "array_size = N * N  # 以uint32为单位的大小\n",
    "data_buffer = allocate(shape=(array_size,), dtype=np.uint8)\n",
    "data_buffer_out = allocate(shape=(array_size,), dtype=np.uint8)"
   ]
  },
  {
   "cell_type": "code",
   "execution_count": 17,
   "metadata": {},
   "outputs": [],
   "source": [
    "# 设置特定位的值的函数\n",
    "def set_bit(data, row, col, value):\n",
    "    bit_position = row * N + col\n",
    "    byte_index = bit_position // 8\n",
    "    bit_offset = bit_position % 8\n",
    "    \n",
    "    if value:\n",
    "        data[bit_position] = np.uint8(1)<<6\n",
    "        #data[byte_index] |= (1 << bit_offset)  # 设置位为1\n",
    "    else:\n",
    "        data[bit_position] = np.uint8(0)<<6\n",
    "        #data[byte_index] &= ~(1 << bit_offset)  # 设置位为0\n",
    "\n",
    "# 填充数据（示例）\n",
    "# 例如，创建一个棋盘图案\n",
    "for i in range(N):\n",
    "    for j in range(N):\n",
    "        # 创建棋盘格图案作为示例\n",
    "        value = 1 if i!=j else 0\n",
    "        set_bit(data_buffer, i, j, value)"
   ]
  },
  {
   "cell_type": "code",
   "execution_count": 18,
   "metadata": {},
   "outputs": [],
   "source": [
    "# 获取分配内存的设备地址\n",
    "device_address = data_buffer.device_address\n",
    "\n",
    "# 将64位地址拆分为两个32位部分\n",
    "address_lower = device_address & 0xFFFFFFFF         # 低32位\n",
    "address_upper = (device_address >> 32) & 0xFFFFFFFF # 高32位\n",
    "\n",
    "# 写入地址到寄存器\n",
    "dSB.write(0x010, address_lower)  # 低32位地址写入0x010寄存器\n",
    "dSB.write(0x014, address_upper)  # 高32位地址写入0x014寄存器"
   ]
  },
  {
   "cell_type": "code",
   "execution_count": 19,
   "metadata": {},
   "outputs": [],
   "source": [
    "# 获取分配内存的设备地址\n",
    "device_address_out = data_buffer_out.device_address\n",
    "\n",
    "# 将64位地址拆分为两个32位部分\n",
    "address_lower_out = device_address_out & 0xFFFFFFFF         # 低32位\n",
    "address_upper_out = (device_address_out >> 32) & 0xFFFFFFFF # 高32位\n",
    "\n",
    "# 写入地址到寄存器\n",
    "dSB.write(0x01c, address_lower_out)  # 低32位地址写入0x010寄存器\n",
    "dSB.write(0x020, address_upper_out)  # 高32位地址写入0x014寄存器"
   ]
  },
  {
   "cell_type": "code",
   "execution_count": 20,
   "metadata": {},
   "outputs": [],
   "source": [
    "x = 0.02 * (np.random.rand(N) - 0.5)\n",
    "y = 0.02 * (np.random.rand(N) - 0.5)\n",
    "for i in range(N):\n",
    "    x[i] *= (2**14)\n",
    "    y[i] *= (2**14)\n",
    "x=x.astype(np.int16)\n",
    "y=y.astype(np.int16)"
   ]
  },
  {
   "cell_type": "code",
   "execution_count": 21,
   "metadata": {},
   "outputs": [
    {
     "name": "stdout",
     "output_type": "stream",
     "text": [
      "32.768\n",
      "256.0\n",
      "CPU times: user 84.7 ms, sys: 3 µs, total: 84.7 ms\n",
      "Wall time: 84.5 ms\n"
     ]
    }
   ],
   "source": [
    "%%time\n",
    "dt = 0.002*(2**14)\n",
    "print(dt)\n",
    "xi = 0.015625*(2**14)\n",
    "print(xi)\n",
    "tmpt = np.zeros((2),dtype=\"int16\")\n",
    "tmpt[0] = np.int16(xi)\n",
    "dSB.write(0x028, bytes(tmpt))\n",
    "tmpt[0] = np.int16(dt)\n",
    "dSB.write(0x030, bytes(tmpt))\n",
    "\n",
    "\n",
    "\n",
    "count = 0\n",
    "for j in range(N):\n",
    "    count = j;\n",
    "    c_a = count%2\n",
    "    if c_a == 0:\n",
    "        tmpt = np.zeros((2),dtype=\"int16\")\n",
    "    tmpt[c_a] = x[j]\n",
    "    if c_a == 1:\n",
    "        val = bytes(tmpt)\n",
    "        dSB.write(0x800+4*int(count/2), val)\n",
    "\n",
    "count = 0\n",
    "for j in range(N):\n",
    "    count = j;\n",
    "    c_a = count%2\n",
    "    if c_a == 0:\n",
    "        tmpt = np.zeros((2),dtype=\"int16\")\n",
    "    tmpt[c_a] = y[j]\n",
    "    if c_a == 1:\n",
    "        val = bytes(tmpt)\n",
    "        dSB.write(0x1000+4*int(count/2), val)\n",
    "\n"
   ]
  },
  {
   "cell_type": "code",
   "execution_count": 22,
   "metadata": {},
   "outputs": [
    {
     "name": "stdout",
     "output_type": "stream",
     "text": [
      "CPU times: user 277 ms, sys: 0 ns, total: 277 ms\n",
      "Wall time: 275 ms\n"
     ]
    }
   ],
   "source": [
    "%%time\n",
    "dSB.write(0,1)\n",
    "\n",
    "finished = dSB.read(0)\n",
    "while(finished!=14):\n",
    "    finished = dSB.read(0)"
   ]
  },
  {
   "cell_type": "code",
   "execution_count": 23,
   "metadata": {},
   "outputs": [
    {
     "data": {
      "text/plain": [
       "4"
      ]
     },
     "execution_count": 23,
     "metadata": {},
     "output_type": "execute_result"
    }
   ],
   "source": [
    "dSB.read(0)"
   ]
  },
  {
   "cell_type": "code",
   "execution_count": 24,
   "metadata": {},
   "outputs": [
    {
     "data": {
      "text/plain": [
       "512"
      ]
     },
     "execution_count": 24,
     "metadata": {},
     "output_type": "execute_result"
    }
   ],
   "source": [
    "get_result_x(rx)\n",
    "np.sum(rx<0)"
   ]
  },
  {
   "cell_type": "code",
   "execution_count": 25,
   "metadata": {},
   "outputs": [
    {
     "data": {
      "text/plain": [
       "array([ 0.03790283,  0.03936768,  0.05981445, ...,  0.03204346,\n",
       "        0.04223633, -0.1907959 ])"
      ]
     },
     "execution_count": 25,
     "metadata": {},
     "output_type": "execute_result"
    }
   ],
   "source": [
    "rx"
   ]
  },
  {
   "cell_type": "code",
   "execution_count": null,
   "metadata": {},
   "outputs": [],
   "source": []
  },
  {
   "cell_type": "code",
   "execution_count": 26,
   "metadata": {},
   "outputs": [],
   "source": [
    "import numpy as np\n",
    "\n",
    "def get_bit_matrix(data, N):\n",
    "    \"\"\"\n",
    "    从数据缓冲区读取位信息，并构建N×N的矩阵\n",
    "    \n",
    "    参数:\n",
    "        data: 包含位数据的缓冲区\n",
    "        N: 矩阵的维度\n",
    "    \n",
    "    返回:\n",
    "        N×N的numpy矩阵，包含位值（0或1）\n",
    "    \"\"\"\n",
    "    # 创建一个N×N的零矩阵\n",
    "    matrix = np.zeros((N, N), dtype=np.uint8)\n",
    "    \n",
    "    # 遍历矩阵的每个位置\n",
    "    for i in range(N):\n",
    "        for j in range(N):\n",
    "            bit_position = i * N + j\n",
    "            # 根据你的设置函数逻辑，检查位值\n",
    "            if data[bit_position] == np.uint8(1)<<6:\n",
    "                matrix[i, j] = 1\n",
    "            else:\n",
    "                matrix[i, j] = 0\n",
    "    \n",
    "    return matrix\n",
    "\n",
    "# 使用示例\n",
    "# 假设 data_buffer 和 N 已经定义\n",
    "# matrix = get_bit_matrix(data_buffer, N)\n",
    "# print(matrix)"
   ]
  },
  {
   "cell_type": "code",
   "execution_count": 27,
   "metadata": {},
   "outputs": [
    {
     "data": {
      "text/plain": [
       "array([[0, 1, 1, ..., 1, 1, 1],\n",
       "       [1, 0, 1, ..., 1, 1, 1],\n",
       "       [1, 1, 0, ..., 1, 1, 1],\n",
       "       ...,\n",
       "       [1, 1, 1, ..., 0, 1, 1],\n",
       "       [1, 1, 1, ..., 1, 0, 1],\n",
       "       [1, 1, 1, ..., 1, 1, 0]], dtype=uint8)"
      ]
     },
     "execution_count": 27,
     "metadata": {},
     "output_type": "execute_result"
    }
   ],
   "source": [
    "get_bit_matrix(data_buffer, N)"
   ]
  },
  {
   "cell_type": "code",
   "execution_count": null,
   "metadata": {},
   "outputs": [],
   "source": []
  },
  {
   "cell_type": "code",
   "execution_count": null,
   "metadata": {},
   "outputs": [],
   "source": []
  }
 ],
 "metadata": {
  "kernelspec": {
   "display_name": "Python 3",
   "language": "python",
   "name": "python3"
  },
  "language_info": {
   "codemirror_mode": {
    "name": "ipython",
    "version": 3
   },
   "file_extension": ".py",
   "mimetype": "text/x-python",
   "name": "python",
   "nbconvert_exporter": "python",
   "pygments_lexer": "ipython3",
   "version": "3.6.5"
  }
 },
 "nbformat": 4,
 "nbformat_minor": 2
}
